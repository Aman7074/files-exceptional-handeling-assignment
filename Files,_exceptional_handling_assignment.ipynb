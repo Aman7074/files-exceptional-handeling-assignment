{
  "nbformat": 4,
  "nbformat_minor": 0,
  "metadata": {
    "colab": {
      "provenance": []
    },
    "kernelspec": {
      "name": "python3",
      "display_name": "Python 3"
    },
    "language_info": {
      "name": "python"
    }
  },
  "cells": [
    {
      "cell_type": "markdown",
      "source": [
        "# THEORY QUESTION"
      ],
      "metadata": {
        "id": "EaiIyRTxftF8"
      }
    },
    {
      "cell_type": "markdown",
      "source": [
        "Qn 1- What is the difference between interpreted and compiled languages?\n",
        "\n",
        "Ans-\n",
        " * Compiled Languages\n",
        "\n",
        "The source code is translated into machine code (binary) before execution.\n",
        "\n",
        "A compiler (e.g., GCC, Clang) takes the entire program and converts it into an executable file.\n",
        "\n",
        "The generated executable runs directly on the hardware, making execution faster.\n",
        "\n",
        "Examples: C, C++\n",
        "\n",
        "* Interpreted Languages\n",
        "\n",
        "The source code is read and executed line-by-line by an interpreter (e.g., Python interpreter, Node.js for JavaScript).\n",
        "\n",
        "No separate compilation step—code runs directly.\n",
        "\n",
        "Slower than compiled languages since it’s processed at runtime.\n",
        "\n",
        "Examples: Python, JavaScript."
      ],
      "metadata": {
        "id": "U3EI39qdgCA1"
      }
    },
    {
      "cell_type": "markdown",
      "source": [
        "Qn 2- What is exception handling in Python?\n",
        "\n",
        "Ans- Exception handling in Python is a mechanism that allows you to manage and respond to errors (exceptions) that occur during program execution without crashing the entire program."
      ],
      "metadata": {
        "id": "-NI2_MTph264"
      }
    },
    {
      "cell_type": "markdown",
      "source": [
        "Qn 3- What is the purpose of the finally block in exception handling?\n",
        "\n",
        "Ans- The finally block in Python always executes, regardless of whether an exception occurs or not. It is typically used for cleanup operations, such as closing files, releasing resources."
      ],
      "metadata": {
        "id": "oqcw1xkDi7rb"
      }
    },
    {
      "cell_type": "markdown",
      "source": [
        "Qn 4-  What is logging in Python?\n",
        "\n",
        "Ans- Logging in Python is a way to track events and errors that happen while a program runs. Instead of using print(), the logging module allows developers to record messages with different levels of importance, making debugging and monitoring easier."
      ],
      "metadata": {
        "id": "uv1vr3hMjVIw"
      }
    },
    {
      "cell_type": "markdown",
      "source": [
        "Qn 5- What is the significance of the __del__ method in Python?\n",
        "\n",
        "Ans- The __del__ method in Python is a destructor method that is called when an object is about to be destroyed (i.e., garbage collected). It is used to clean up resources such as closing files, releasing memory, or disconnecting from databases.\n",
        "\n"
      ],
      "metadata": {
        "id": "6q1KezmojtEz"
      }
    },
    {
      "cell_type": "markdown",
      "source": [
        "Qn 6-  What is the difference between import and from ... import in Python?\n",
        "\n",
        "Ans-\n",
        "* import Statement\n",
        "\n",
        "The import statement imports the entire module and requires you to use the module name as a prefix when accessing its functions or variables.\n",
        "\n",
        "* from ... import Statement\n",
        "\n",
        "The from ... import statement imports specific functions, classes, or variables from a module, allowing you to use them directly without the module prefix.\n",
        "\n"
      ],
      "metadata": {
        "id": "H9MWb8nKkE8v"
      }
    },
    {
      "cell_type": "markdown",
      "source": [
        "Qn 7- How can you handle multiple exceptions in Python?\n",
        "\n",
        "Ans- Python allows handling multiple exceptions using different approaches, such as multiple except blocks, a single except block with a tuple, or a generic except block.\n"
      ],
      "metadata": {
        "id": "Eu8GDWsHkh8G"
      }
    },
    {
      "cell_type": "markdown",
      "source": [
        "Qn 8- What is the purpose of the with statement when handling files in Python?\n",
        "\n",
        "Ans- The with statement in Python is used to handle files efficiently by ensuring that they are properly opened and closed. It automatically closes the file once the block of code is executed, even if an error occurs."
      ],
      "metadata": {
        "id": "Xjsk1mH1kzgW"
      }
    },
    {
      "cell_type": "markdown",
      "source": [
        "Qn 9- What is the difference between multithreading and multiprocessing?\n",
        "\n",
        "Ans-\n",
        "\n",
        "* Multithreading\n",
        "\n",
        "Multithreading uses multiple threads within a single process. Threads share the same memory space, making it efficient but limited by Python’s Global Interpreter Lock (GIL).\n",
        "\n",
        "* Multiprocessing\n",
        "\n",
        "Multiprocessing uses multiple processes, each with its own memory space, avoiding GIL restrictions. It utilizes multiple CPU cores, making it great for CPU-bound tasks."
      ],
      "metadata": {
        "id": "Nw6M_HM6lIPz"
      }
    },
    {
      "cell_type": "markdown",
      "source": [
        "Qn 10- F What are the advantages of using logging in a program?\n",
        "\n",
        "Ans-\n",
        "* Advantages of Using Logging in a Program-\n",
        "\n",
        "Helps in Debugging and Troubleshooting\n",
        "\n",
        "Provides Different Logging Levels\n",
        "\n",
        "Saves Logs to Files for Future Analysis\n",
        "\n",
        " Improves Performance Compared to print()"
      ],
      "metadata": {
        "id": "8PV4fRGQlvkV"
      }
    },
    {
      "cell_type": "markdown",
      "source": [
        "Qn 11- What is memory management in Python?\n",
        "\n",
        "Ans- Memory management in Python is handled automatically by the Python memory manager. It allocates and deallocates memory as needed, ensuring efficient memory usage."
      ],
      "metadata": {
        "id": "lZL-aMaYmVCM"
      }
    },
    {
      "cell_type": "markdown",
      "source": [
        "Qn 12- What are the basic steps involved in exception handling in Python?\n",
        "\n",
        "Ans-\n",
        "\n",
        "* Basic Steps in Exception Handling in Python\n",
        "\n",
        "1-  Try Block (try)\n",
        "\n",
        "The code that might raise an exception is placed inside a try block.\n",
        "\n",
        "If no exception occurs, the except block is skipped\n",
        "\n",
        "\n",
        "2- Catch the Exception (except)\n",
        "\n",
        "If an exception occurs, Python jumps to the except block.\n",
        "\n",
        "You can specify the exception type or use a general except.\n",
        "\n",
        "3- Else Block (else)\n",
        "\n",
        " Runs only if no exception occurs in the try block.\n",
        "\n",
        "4-  Finally Block (finally)\n",
        "\n",
        "Runs no matter what, even if an exception occurs.\n",
        "\n",
        " Used for cleanup actions (like- closing files, releasing resources)."
      ],
      "metadata": {
        "id": "Zrkf2D03mpnf"
      }
    },
    {
      "cell_type": "markdown",
      "source": [
        "Qn 13- Why is memory management important in Python?\n",
        "\n",
        "Ans- Memory management in Python is crucial for efficient program execution and preventing memory leaks. Since Python automates memory allocation and deallocation, understanding how it works helps developers write optimized and scalable code.\n",
        "\n"
      ],
      "metadata": {
        "id": "aiYFWJCbnzzV"
      }
    },
    {
      "cell_type": "markdown",
      "source": [
        "Qn 14- What is the role of try and except in exception handling?\n",
        "\n",
        "Ans-\n",
        "\n",
        "* try Block: (Detects Errors)\n",
        "\n",
        "The try block contains code that may cause an exception.\n",
        "If no error occurs, Python skips the except block.\n",
        "If an error occurs, Python jumps to the except block.\n",
        "\n",
        "* except Block: (Handles Errors)\n",
        "\n",
        "The except block catches and handles exceptions, preventing crashes.\n",
        "You can catch specific errors or all errors."
      ],
      "metadata": {
        "id": "w-o_6QM_oKkY"
      }
    },
    {
      "cell_type": "markdown",
      "source": [
        "Qn 15- How does Python's garbage collection system work?\n",
        "\n",
        "Ans- Python’s garbage collection (GC) system automatically manages memory by removing unused objects, preventing memory leaks and optimizing performance."
      ],
      "metadata": {
        "id": "FoyfX1UVozPH"
      }
    },
    {
      "cell_type": "markdown",
      "source": [
        "Qn 16- What is the purpose of the else block in exception handling?\n",
        "\n",
        "Ans- The else block in exception handling is used to execute code only if no exceptions occur in the try block."
      ],
      "metadata": {
        "id": "alTCEbHkpbFK"
      }
    },
    {
      "cell_type": "markdown",
      "source": [
        "Qn 17- What are the common logging levels in Python?\n",
        "\n",
        "Ans-\n",
        "* Common Logging Levels in Python\n",
        "\n",
        "1. DEBUG (Level 10)\n",
        "\n",
        "Used for detailed diagnostic information, mostly for debugging.\n",
        "\n",
        "2. INFO (Level 20)\n",
        "\n",
        "Used to log general information about program execution.\n",
        "\n",
        "3. WARNING (Level 30)\n",
        "\n",
        "Used to indicate something unexpected happened but the program still runs.\n",
        "\n",
        "4. ERROR (Level 40)\n",
        "\n",
        "Used when something goes wrong but does not crash the program.\n",
        "\n",
        "5. CRITICAL (Level 50)\n",
        "\n",
        "Used for severe errors where the program might crash."
      ],
      "metadata": {
        "id": "-N4NhiBBpq0M"
      }
    },
    {
      "cell_type": "markdown",
      "source": [
        "Qn 18- What is the difference between os.fork() and multiprocessing in Python?\n",
        "\n",
        "Ans-\n",
        "\n",
        "* os.fork() (Unix/Linux Only)\n",
        "\n",
        "Creates a child process by duplicating the parent process.\n",
        "\n",
        "The child process shares the same memory space as the parent (Copy-on-Write).\n",
        "\n",
        "Works only on Unix-based systems (Linux, macOS).\n",
        "Not available on Windows\n",
        "\n",
        "* multiprocessing Module (Cross-Platform)\n",
        "\n",
        "Creates separate memory space for each process (no shared memory).\n",
        "\n",
        "Works on both Windows and Unix.\n",
        "\n",
        "Uses Process objects instead of raw system calls.\n",
        "\n",
        "More high-level and safer than os.fork()"
      ],
      "metadata": {
        "id": "E7CsPZK2r-zr"
      }
    },
    {
      "cell_type": "markdown",
      "source": [
        "Qn 19- What is the importance of closing a file in Python?\n",
        "\n",
        "Ans- Closing a file in Python using .close() or a with statement is essential for resource management and data integrity."
      ],
      "metadata": {
        "id": "LWNek7ICtZTK"
      }
    },
    {
      "cell_type": "markdown",
      "source": [
        "Qn 20- What is the difference between file.read() and file.readline() in Python?\n",
        "\n",
        "Ans-\n",
        "\n",
        "*  file.read() – Reads the Entire File\n",
        "\n",
        "Reads the entire file as a single string (or a specified number of bytes).\n",
        "\n",
        "Suitable for small files but not efficient for large files (high memory usage).\n",
        "\n",
        "\n",
        "2. file.readline() – Reads One Line at a Time\n",
        "\n",
        "Reads only one line from the file at a time.\n",
        "\n",
        "Useful for processing files line by line (efficient for large files)."
      ],
      "metadata": {
        "id": "Iojh5ooUuCPM"
      }
    },
    {
      "cell_type": "markdown",
      "source": [
        "# PRACTICAL QUESTIONS"
      ],
      "metadata": {
        "id": "gSggGg7bJn4U"
      }
    },
    {
      "cell_type": "markdown",
      "source": [
        "Qn 1- How can you open a file for writing in Python and write a string to it?"
      ],
      "metadata": {
        "id": "YVhcTZf-J7VJ"
      }
    },
    {
      "cell_type": "code",
      "source": [
        "\n",
        "\n",
        "file = open(\"my_file.txt\", \"w\")  # Open file in write mode\n",
        "file.write(\"data science courser by PW Skills\")      # Write string to file\n",
        "file.close()                     # Close file to save changes\n"
      ],
      "metadata": {
        "id": "a-NKh6UyOsRy"
      },
      "execution_count": null,
      "outputs": []
    },
    {
      "cell_type": "markdown",
      "source": [
        "Qn 2- Write a Python program to read the contents of a file and print each line."
      ],
      "metadata": {
        "id": "wSxuFqcJPskX"
      }
    },
    {
      "cell_type": "code",
      "source": [
        "\n",
        "\n",
        "# Open the file in read mode and print each line\n",
        "with open(\"my_file.txt\", \"r\") as file:\n",
        "    for line in file:  # Read file line by line\n",
        "        print(line.strip())  # Remove extra newline characters\n"
      ],
      "metadata": {
        "colab": {
          "base_uri": "https://localhost:8080/"
        },
        "id": "9jgP8ByIP8Tj",
        "outputId": "13b3b74b-5c00-4415-ca15-da1667f82801"
      },
      "execution_count": null,
      "outputs": [
        {
          "output_type": "stream",
          "name": "stdout",
          "text": [
            "data science courser by PW Skills\n"
          ]
        }
      ]
    },
    {
      "cell_type": "markdown",
      "source": [
        "Qn 3- How would you handle a case where the file doesn't exist while trying to open it for reading?"
      ],
      "metadata": {
        "id": "nqRt-9xHQ4Cx"
      }
    },
    {
      "cell_type": "code",
      "source": [
        "\n",
        "\n",
        "filename = \"my_file _1.txt\"\n",
        "\n",
        "try:\n",
        "    with open(filename, \"r\") as file:\n",
        "        for line in file:\n",
        "            print(line.strip())  # Print each line without extra newlines\n",
        "except FileNotFoundError:\n",
        "    print(f\"Error: The file '{filename}' does not exist.\")\n"
      ],
      "metadata": {
        "colab": {
          "base_uri": "https://localhost:8080/"
        },
        "id": "_OvG6VW5Rn41",
        "outputId": "590373b9-0c56-45fe-dbca-e35929eeb993"
      },
      "execution_count": null,
      "outputs": [
        {
          "output_type": "stream",
          "name": "stdout",
          "text": [
            "Error: The file 'my_file _1.txt' does not exist.\n"
          ]
        }
      ]
    },
    {
      "cell_type": "markdown",
      "source": [
        "Qn 4-  Write a Python script that reads from one file and writes its content to another file."
      ],
      "metadata": {
        "id": "NCHGZvmvR4k3"
      }
    },
    {
      "cell_type": "code",
      "source": [
        "\n",
        "\n",
        "# Open the source file for reading and destination file for writing\n",
        "with open(\"my_file.txt\", \"r\") as source_file, open(\"destination.txt\", \"w\") as dest_file:\n",
        "    for line in source_file:  # Read line by line (efficient for large files)\n",
        "        dest_file.write(line)  # Write each line to the new file\n",
        "\n",
        "print(\"File copied successfully!\")\n"
      ],
      "metadata": {
        "colab": {
          "base_uri": "https://localhost:8080/"
        },
        "id": "a4vg7w38SBQc",
        "outputId": "df74ace9-abd1-40a4-fb10-5a7f2a05def0"
      },
      "execution_count": null,
      "outputs": [
        {
          "output_type": "stream",
          "name": "stdout",
          "text": [
            "File copied successfully!\n"
          ]
        }
      ]
    },
    {
      "cell_type": "markdown",
      "source": [
        "Qn 5- How would you catch and handle division by zero error in Python?"
      ],
      "metadata": {
        "id": "0UJ6ydQrS2bA"
      }
    },
    {
      "cell_type": "code",
      "source": [
        "\n",
        "\n",
        "try:\n",
        "    result = 10 / 0  # This will cause a ZeroDivisionError\n",
        "except ZeroDivisionError:\n",
        "    print(\"Error: Division by zero is not allowed!\")"
      ],
      "metadata": {
        "colab": {
          "base_uri": "https://localhost:8080/"
        },
        "id": "qMBM3KWHTRWy",
        "outputId": "c5cbc8d0-5d19-47e5-ee7c-4e07b1dd10e2"
      },
      "execution_count": null,
      "outputs": [
        {
          "output_type": "stream",
          "name": "stdout",
          "text": [
            "Error: Division by zero is not allowed!\n"
          ]
        }
      ]
    },
    {
      "cell_type": "markdown",
      "source": [
        "Qn 6- Write a Python program that logs an error message to a log file when a division by zero exception occurs."
      ],
      "metadata": {
        "id": "WAI9OnZWUFwJ"
      }
    },
    {
      "cell_type": "code",
      "source": [
        "\n",
        "\n",
        "import logging\n",
        "\n",
        "# Configure logging to write to a file\n",
        "logging.basicConfig(filename=\"error.log\", level=logging.ERROR,\n",
        "                    format=\"%(asctime)s - %(levelname)s - %(message)s\")\n",
        "\n",
        "def safe_divide(a, b):\n",
        "    try:\n",
        "        return a / b  # Attempt division\n",
        "    except ZeroDivisionError:\n",
        "        logging.error(\"trying to divide by zero.\")  # Log the error\n",
        "        print(\"Error: Division by zero is not allowed!\")\n",
        "        return None\n",
        "\n",
        "# Example Usage\n",
        "result = safe_divide(10, 0)  # This will log an error\n"
      ],
      "metadata": {
        "colab": {
          "base_uri": "https://localhost:8080/"
        },
        "id": "PmcaXIa8UQJ8",
        "outputId": "9fbe6ec9-b173-4597-cb95-353a71b5c825"
      },
      "execution_count": 13,
      "outputs": [
        {
          "output_type": "stream",
          "name": "stderr",
          "text": [
            "ERROR:root:Attempted to divide by zero.\n"
          ]
        },
        {
          "output_type": "stream",
          "name": "stdout",
          "text": [
            "Error: Division by zero is not allowed!\n"
          ]
        }
      ]
    },
    {
      "cell_type": "markdown",
      "source": [
        "Qn 7- How do you log information at different levels (INFO, ERROR, WARNING) in Python using the logging module?"
      ],
      "metadata": {
        "id": "c2X0nwM4VzKI"
      }
    },
    {
      "cell_type": "code",
      "source": [
        "\n",
        "\n",
        "\n",
        "# Configure logging\n",
        "logging.basicConfig(filename=\"app.log\", level=logging.DEBUG,\n",
        "                    format=\"%(asctime)s - %(levelname)s - %(message)s\")\n",
        "\n",
        "# Logging messages at different levels\n",
        "logging.debug(\"This is a debug message.\")      # Detailed debugging\n",
        "logging.info(\"Application started successfully.\")  # General info\n",
        "logging.warning(\"Disk space running low.\")     # Warning about potential issue\n",
        "logging.error(\"File not found!\")               # Recoverable error\n",
        "logging.critical(\"System crash!\")              # Severe error\n",
        "\n",
        "print(\"Logs have been recorded in 'app.log'\")\n"
      ],
      "metadata": {
        "colab": {
          "base_uri": "https://localhost:8080/"
        },
        "id": "jMKgG3QlV8xu",
        "outputId": "fab1ad8a-8fc9-4f98-fce5-4515e7bca060"
      },
      "execution_count": 14,
      "outputs": [
        {
          "output_type": "stream",
          "name": "stderr",
          "text": [
            "WARNING:root:Disk space running low.\n",
            "ERROR:root:File not found!\n",
            "CRITICAL:root:System crash!\n"
          ]
        },
        {
          "output_type": "stream",
          "name": "stdout",
          "text": [
            "Logs have been recorded in 'app.log'\n"
          ]
        }
      ]
    },
    {
      "cell_type": "markdown",
      "source": [
        "Qn 8- Write a program to handle a file opening error using exception handling."
      ],
      "metadata": {
        "id": "asnMlszOW4Ji"
      }
    },
    {
      "cell_type": "code",
      "source": [
        "\n",
        "\n",
        "try:\n",
        "    with open(\"my_file_1.txt\", \"r\") as file:\n",
        "        content = file.read()\n",
        "        print(content)\n",
        "except FileNotFoundError:\n",
        "    print(\"Error: The file does not exist. Please check the filename and try again.\")\n"
      ],
      "metadata": {
        "colab": {
          "base_uri": "https://localhost:8080/"
        },
        "id": "Ev27Mih3XFic",
        "outputId": "a3ab818f-18a2-4a17-8e45-56ddbf5bb2ed"
      },
      "execution_count": 17,
      "outputs": [
        {
          "output_type": "stream",
          "name": "stdout",
          "text": [
            "Error: The file does not exist. Please check the filename and try again.\n"
          ]
        }
      ]
    },
    {
      "cell_type": "markdown",
      "source": [
        "Qn 9- How can you read a file line by line and store its content in a list in Python?"
      ],
      "metadata": {
        "id": "LM9BJumOYH4R"
      }
    },
    {
      "cell_type": "code",
      "source": [
        "\n",
        "\n",
        "with open(\"my_file.txt\", \"r\") as file:\n",
        "    lines = file.readlines()  # Reads all lines into a list\n",
        "\n",
        "print(lines)  # Output: ['Line 1\\n', 'Line 2\\n', 'Line 3\\n']\n"
      ],
      "metadata": {
        "colab": {
          "base_uri": "https://localhost:8080/"
        },
        "id": "tBlW4vErYSm9",
        "outputId": "aab70757-6989-49f3-b562-b6045b271698"
      },
      "execution_count": 19,
      "outputs": [
        {
          "output_type": "stream",
          "name": "stdout",
          "text": [
            "['data science courser by PW Skills']\n"
          ]
        }
      ]
    },
    {
      "cell_type": "markdown",
      "source": [
        "Qn 10- How can you append data to an existing file in Python?"
      ],
      "metadata": {
        "id": "woFEydlfYyJg"
      }
    },
    {
      "cell_type": "code",
      "source": [
        "\n",
        "\n",
        "with open(\"my_file.txt\", \"a\") as file:\n",
        "    file.write(\"\\nThis is a new line appended to this file.\")\n",
        "\n"
      ],
      "metadata": {
        "id": "lUwvalRcY8tM"
      },
      "execution_count": 23,
      "outputs": []
    },
    {
      "cell_type": "markdown",
      "source": [
        "Qn 11- Write a Python program that uses a try-except block to handle an error when attempting to access a\n",
        "dictionary key that doesn't exist."
      ],
      "metadata": {
        "id": "yUjR1WTPaNKH"
      }
    },
    {
      "cell_type": "code",
      "source": [
        "\n",
        "\n",
        "# Sample dictionary\n",
        "student_scores = {\"Rohan\": 85, \"Bobby\": 90, \"Chandan\": 78}\n",
        "\n",
        "try:\n",
        "    score = student_scores[\"David\"]  # Attempting to access a missing key\n",
        "    print(f\"David's score: {score}\")\n",
        "except KeyError:\n",
        "    print(\"Error: The key 'David' does not exist in the dictionary.\")\n"
      ],
      "metadata": {
        "colab": {
          "base_uri": "https://localhost:8080/"
        },
        "id": "rt-nClKQaTu7",
        "outputId": "344c491b-84f0-4201-9274-d20916d4d9a3"
      },
      "execution_count": 25,
      "outputs": [
        {
          "output_type": "stream",
          "name": "stdout",
          "text": [
            "Error: The key 'David' does not exist in the dictionary.\n"
          ]
        }
      ]
    },
    {
      "cell_type": "markdown",
      "source": [
        "Qn 12- Write a program that demonstrates using multiple except blocks to handle different types of exceptions."
      ],
      "metadata": {
        "id": "ealENW7dbAPA"
      }
    },
    {
      "cell_type": "code",
      "source": [
        "\n",
        "\n",
        "try:\n",
        "    # User input for demonstration\n",
        "    num1 = int(input(\"Enter the first number: \"))\n",
        "    num2 = int(input(\"Enter the second number: \"))\n",
        "\n",
        "    result = num1 / num2  # May cause ZeroDivisionError\n",
        "    print(f\"Result: {result}\")\n",
        "\n",
        "    my_list = [1, 2, 3]\n",
        "    print(my_list[5])  # May cause IndexError\n",
        "\n",
        "except ZeroDivisionError:\n",
        "    print(\"Error: Division by zero is not allowed!\")\n",
        "except ValueError:\n",
        "    print(\"Error: Invalid input! Please enter a valid number.\")\n",
        "except IndexError:\n",
        "    print(\"Error: List index out of range!\")\n",
        "except Exception as e:\n",
        "    print(f\"An unexpected error occurred: {e}\")  # Catch-all for other errors\n"
      ],
      "metadata": {
        "colab": {
          "base_uri": "https://localhost:8080/"
        },
        "id": "FjdDvnZba4Ht",
        "outputId": "2e46977d-c820-4320-d4e3-d39474e94797"
      },
      "execution_count": 28,
      "outputs": [
        {
          "output_type": "stream",
          "name": "stdout",
          "text": [
            "Enter the first number: 8\n",
            "Enter the second number: 2\n",
            "Result: 4.0\n",
            "Error: List index out of range!\n"
          ]
        }
      ]
    },
    {
      "cell_type": "markdown",
      "source": [
        "Qn 13- How would you check if a file exists before attempting to read it in Python?"
      ],
      "metadata": {
        "id": "7D9G9L66bpv9"
      }
    },
    {
      "cell_type": "code",
      "source": [
        "\n",
        "\n",
        "import os\n",
        "\n",
        "file_path = \"my_file_1.txt\"\n",
        "\n",
        "if os.path.exists(file_path):  # Check if file exists\n",
        "    with open(file_path, \"r\") as file:\n",
        "        content = file.read()\n",
        "        print(content)\n",
        "else:\n",
        "    print(\"Error: The file does not exist.\")\n"
      ],
      "metadata": {
        "colab": {
          "base_uri": "https://localhost:8080/"
        },
        "id": "BeydaDjqbzcc",
        "outputId": "043be8aa-b797-4244-e64d-4b6c0ecca77e"
      },
      "execution_count": 31,
      "outputs": [
        {
          "output_type": "stream",
          "name": "stdout",
          "text": [
            "Error: The file does not exist.\n"
          ]
        }
      ]
    },
    {
      "cell_type": "markdown",
      "source": [
        "Qn 14- Write a program that uses the logging module to log both informational and error messages."
      ],
      "metadata": {
        "id": "i21j9sSxcK8R"
      }
    },
    {
      "cell_type": "code",
      "source": [
        "\n",
        "\n",
        "\n",
        "# Configure logging\n",
        "logging.basicConfig(\n",
        "    filename=\"app.log\",  # Log file name\n",
        "    level=logging.DEBUG,  # Capture all levels (DEBUG, INFO, WARNING, ERROR, CRITICAL)\n",
        "    format=\"%(asctime)s - %(levelname)s - %(message)s\",  # Log format with timestamp\n",
        ")\n",
        "\n",
        "def divide_numbers(a, b):\n",
        "    \"\"\"Performs division and logs messages accordingly.\"\"\"\n",
        "    logging.info(f\"Attempting to divide {a} by {b}\")  # Log an informational message\n",
        "    try:\n",
        "        result = a / b\n",
        "        logging.info(f\"Division successful: {a} / {b} = {result}\")\n",
        "        return result\n",
        "    except ZeroDivisionError:\n",
        "        logging.error(\"Error: Attempted to divide by zero!\")  # Log an error\n",
        "        return None\n",
        "\n",
        "# Example usage\n",
        "divide_numbers(10, 2)  # Logs successful operation\n",
        "divide_numbers(5, 0)   # Logs an error\n",
        "\n",
        "print(\"Logs have been recorded in 'app.log'\")\n"
      ],
      "metadata": {
        "colab": {
          "base_uri": "https://localhost:8080/"
        },
        "id": "O6r20gSWcVlM",
        "outputId": "6879e997-1091-47ac-b66f-624de643dc40"
      },
      "execution_count": 32,
      "outputs": [
        {
          "output_type": "stream",
          "name": "stderr",
          "text": [
            "ERROR:root:Error: Attempted to divide by zero!\n"
          ]
        },
        {
          "output_type": "stream",
          "name": "stdout",
          "text": [
            "Logs have been recorded in 'app.log'\n"
          ]
        }
      ]
    },
    {
      "cell_type": "markdown",
      "source": [
        "Qn 15- Write a Python program that prints the content of a file and handles the case when the file is empty?\n"
      ],
      "metadata": {
        "id": "M2_Zl9vTc2zb"
      }
    },
    {
      "cell_type": "code",
      "source": [
        "\n",
        "\n",
        "\n",
        "def read_file(filename):\n",
        "#Reads and prints the content of a file while handling an empty file.\n",
        "    if not os.path.exists(filename):  # Check if file exists\n",
        "        print(\"Error: The file does not exist.\")\n",
        "        return\n",
        "\n",
        "    try:\n",
        "        with open(filename, \"r\") as file:\n",
        "            content = file.read()\n",
        "\n",
        "            if not content:  # Check if file is empty\n",
        "                print(\"The file is empty.\")\n",
        "            else:\n",
        "                print(\"File Content:\\n\")\n",
        "                print(content)\n",
        "\n",
        "    except Exception as e:\n",
        "        print(f\"An error occurred: {e}\")\n",
        "\n",
        "# Example Usage\n",
        "file_name = \"my_file.txt\"\n",
        "read_file(file_name)\n"
      ],
      "metadata": {
        "colab": {
          "base_uri": "https://localhost:8080/"
        },
        "id": "yJ4IjkUrc_W6",
        "outputId": "f8bfd8f9-8699-47c4-bec0-e1fcfea13bf4"
      },
      "execution_count": 34,
      "outputs": [
        {
          "output_type": "stream",
          "name": "stdout",
          "text": [
            "File Content:\n",
            "\n",
            "data science courser by PW Skills\n",
            "This is a new line appended to this file.\n",
            "This is a new line appended to this file.\n",
            "This is a new line appended to this file.\n",
            "This is a new line appended to this file.\n"
          ]
        }
      ]
    },
    {
      "cell_type": "code",
      "source": [],
      "metadata": {
        "id": "nLexQawddh1X"
      },
      "execution_count": 34,
      "outputs": []
    }
  ]
}